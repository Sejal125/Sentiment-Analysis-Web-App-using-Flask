{
 "cells": [
  {
   "cell_type": "code",
   "execution_count": 1,
   "id": "ddeba4ef",
   "metadata": {},
   "outputs": [
    {
     "name": "stderr",
     "output_type": "stream",
     "text": [
      "[nltk_data] Downloading package stopwords to\n",
      "[nltk_data]     C:\\Users\\sejal\\AppData\\Roaming\\nltk_data...\n",
      "[nltk_data]   Package stopwords is already up-to-date!\n"
     ]
    }
   ],
   "source": [
    "# Importing  libraries\n",
    "import pandas as pd\n",
    "import bz2\n",
    "import string\n",
    "import nltk\n",
    "import joblib\n",
    "\n",
    "from nltk.corpus import stopwords\n",
    "from sklearn.model_selection import train_test_split\n",
    "from sklearn.feature_extraction.text import TfidfVectorizer\n",
    "from sklearn.naive_bayes import MultinomialNB\n",
    "from sklearn.linear_model import LogisticRegression\n",
    "from sklearn.pipeline import Pipeline\n",
    "from sklearn.metrics import classification_report\n",
    "\n",
    "#Download NLTK stopwords (run once)\n",
    "nltk.download('stopwords')\n",
    "stop_words = set(stopwords.words('english'))\n"
   ]
  },
  {
   "cell_type": "code",
   "execution_count": null,
   "id": "7f1f1e65",
   "metadata": {},
   "outputs": [
    {
     "name": "stdout",
     "output_type": "stream",
     "text": [
      "👀 Sample ratings extracted: [2, 2, 2, 2, 2, 2, 1, 2, 2, 2, 1, 2, 2, 1, 1, 1, 2, 2, 2, 1]\n"
     ]
    }
   ],
   "source": [
    "#loading the compressed data\n",
    "rows=[]\n",
    "with bz2.open(\"train.ft.txt.bz2\",mode=\"rt\",encoding=\"utf-8\")as file:\n",
    "    for i,line in enumerate(file):\n",
    "        if not line.strip():continue  #skip empty lines\n",
    "        label, text = line.split(\" \", 1)  # split label and text\n",
    "        label = int(label.replace(\"__label__\", \"\"))  # clean label\n",
    "        rows.append((text.strip(), label))  # save tuple (text, rating)\n",
    "        if i >= 200000: break  \n",
    "\n",
    "#create dataframe\n",
    "df=pd.DataFrame(rows,columns=[\"text\",\"labels\"])\n",
    "\n",
    "# Show first 10 labels\n",
    "print(\" Sample ratings extracted:\", [r[1] for r in rows[:20]])\n"
   ]
  },
  {
   "cell_type": "code",
   "execution_count": 22,
   "id": "6b1ee2aa",
   "metadata": {},
   "outputs": [
    {
     "name": "stdout",
     "output_type": "stream",
     "text": [
      "2    101167\n",
      "1     98834\n",
      "Name: labels, dtype: int64\n",
      "positive    101167\n",
      "negative     98834\n",
      "Name: sentiment, dtype: int64\n"
     ]
    }
   ],
   "source": [
    "#convert labels to s sentiment\n",
    "\n",
    "def label_sentiment(labels):\n",
    "    if labels == 1:\n",
    "        return \"negative\"\n",
    "    elif labels == 2:\n",
    "        return \"positive\"\n",
    "    \n",
    "\n",
    "df[\"sentiment\"] = df[\"labels\"].apply(label_sentiment)\n",
    "\n",
    "print(df[\"labels\"].value_counts())\n",
    "print(df[\"sentiment\"].value_counts())"
   ]
  },
  {
   "cell_type": "code",
   "execution_count": 23,
   "id": "304dbeb6",
   "metadata": {},
   "outputs": [],
   "source": [
    "#clean the text\n",
    "def clean_text(text):\n",
    "    text = text.lower()  # lowercase\n",
    "    text = \"\".join([char for char in text if char not in string.punctuation])  # remove punctuation\n",
    "    words = text.split()  # split into words\n",
    "    words = [word for word in words if word not in stop_words]  # remove stopwords\n",
    "    return \" \".join(words)\n",
    "\n",
    "df[\"clean_text\"] = df[\"text\"].apply(clean_text)"
   ]
  },
  {
   "cell_type": "code",
   "execution_count": null,
   "id": "9d09eb8f",
   "metadata": {},
   "outputs": [
    {
     "name": "stdout",
     "output_type": "stream",
     "text": [
      "y_train class counts:\n",
      " positive    80933\n",
      "negative    79067\n",
      "Name: sentiment, dtype: int64\n",
      "y_test class counts:\n",
      " positive    20234\n",
      "negative    19767\n",
      "Name: sentiment, dtype: int64\n"
     ]
    },
    {
     "data": {
      "text/html": [
       "<style>#sk-container-id-1 {color: black;background-color: white;}#sk-container-id-1 pre{padding: 0;}#sk-container-id-1 div.sk-toggleable {background-color: white;}#sk-container-id-1 label.sk-toggleable__label {cursor: pointer;display: block;width: 100%;margin-bottom: 0;padding: 0.3em;box-sizing: border-box;text-align: center;}#sk-container-id-1 label.sk-toggleable__label-arrow:before {content: \"▸\";float: left;margin-right: 0.25em;color: #696969;}#sk-container-id-1 label.sk-toggleable__label-arrow:hover:before {color: black;}#sk-container-id-1 div.sk-estimator:hover label.sk-toggleable__label-arrow:before {color: black;}#sk-container-id-1 div.sk-toggleable__content {max-height: 0;max-width: 0;overflow: hidden;text-align: left;background-color: #f0f8ff;}#sk-container-id-1 div.sk-toggleable__content pre {margin: 0.2em;color: black;border-radius: 0.25em;background-color: #f0f8ff;}#sk-container-id-1 input.sk-toggleable__control:checked~div.sk-toggleable__content {max-height: 200px;max-width: 100%;overflow: auto;}#sk-container-id-1 input.sk-toggleable__control:checked~label.sk-toggleable__label-arrow:before {content: \"▾\";}#sk-container-id-1 div.sk-estimator input.sk-toggleable__control:checked~label.sk-toggleable__label {background-color: #d4ebff;}#sk-container-id-1 div.sk-label input.sk-toggleable__control:checked~label.sk-toggleable__label {background-color: #d4ebff;}#sk-container-id-1 input.sk-hidden--visually {border: 0;clip: rect(1px 1px 1px 1px);clip: rect(1px, 1px, 1px, 1px);height: 1px;margin: -1px;overflow: hidden;padding: 0;position: absolute;width: 1px;}#sk-container-id-1 div.sk-estimator {font-family: monospace;background-color: #f0f8ff;border: 1px dotted black;border-radius: 0.25em;box-sizing: border-box;margin-bottom: 0.5em;}#sk-container-id-1 div.sk-estimator:hover {background-color: #d4ebff;}#sk-container-id-1 div.sk-parallel-item::after {content: \"\";width: 100%;border-bottom: 1px solid gray;flex-grow: 1;}#sk-container-id-1 div.sk-label:hover label.sk-toggleable__label {background-color: #d4ebff;}#sk-container-id-1 div.sk-serial::before {content: \"\";position: absolute;border-left: 1px solid gray;box-sizing: border-box;top: 0;bottom: 0;left: 50%;z-index: 0;}#sk-container-id-1 div.sk-serial {display: flex;flex-direction: column;align-items: center;background-color: white;padding-right: 0.2em;padding-left: 0.2em;position: relative;}#sk-container-id-1 div.sk-item {position: relative;z-index: 1;}#sk-container-id-1 div.sk-parallel {display: flex;align-items: stretch;justify-content: center;background-color: white;position: relative;}#sk-container-id-1 div.sk-item::before, #sk-container-id-1 div.sk-parallel-item::before {content: \"\";position: absolute;border-left: 1px solid gray;box-sizing: border-box;top: 0;bottom: 0;left: 50%;z-index: -1;}#sk-container-id-1 div.sk-parallel-item {display: flex;flex-direction: column;z-index: 1;position: relative;background-color: white;}#sk-container-id-1 div.sk-parallel-item:first-child::after {align-self: flex-end;width: 50%;}#sk-container-id-1 div.sk-parallel-item:last-child::after {align-self: flex-start;width: 50%;}#sk-container-id-1 div.sk-parallel-item:only-child::after {width: 0;}#sk-container-id-1 div.sk-dashed-wrapped {border: 1px dashed gray;margin: 0 0.4em 0.5em 0.4em;box-sizing: border-box;padding-bottom: 0.4em;background-color: white;}#sk-container-id-1 div.sk-label label {font-family: monospace;font-weight: bold;display: inline-block;line-height: 1.2em;}#sk-container-id-1 div.sk-label-container {text-align: center;}#sk-container-id-1 div.sk-container {/* jupyter's `normalize.less` sets `[hidden] { display: none; }` but bootstrap.min.css set `[hidden] { display: none !important; }` so we also need the `!important` here to be able to override the default hidden behavior on the sphinx rendered scikit-learn.org. See: https://github.com/scikit-learn/scikit-learn/issues/21755 */display: inline-block !important;position: relative;}#sk-container-id-1 div.sk-text-repr-fallback {display: none;}</style><div id=\"sk-container-id-1\" class=\"sk-top-container\"><div class=\"sk-text-repr-fallback\"><pre>Pipeline(steps=[(&#x27;tfidf&#x27;, TfidfVectorizer(max_features=5000)),\n",
       "                (&#x27;clf&#x27;, LogisticRegression(max_iter=200))])</pre><b>In a Jupyter environment, please rerun this cell to show the HTML representation or trust the notebook. <br />On GitHub, the HTML representation is unable to render, please try loading this page with nbviewer.org.</b></div><div class=\"sk-container\" hidden><div class=\"sk-item sk-dashed-wrapped\"><div class=\"sk-label-container\"><div class=\"sk-label sk-toggleable\"><input class=\"sk-toggleable__control sk-hidden--visually\" id=\"sk-estimator-id-1\" type=\"checkbox\" ><label for=\"sk-estimator-id-1\" class=\"sk-toggleable__label sk-toggleable__label-arrow\">Pipeline</label><div class=\"sk-toggleable__content\"><pre>Pipeline(steps=[(&#x27;tfidf&#x27;, TfidfVectorizer(max_features=5000)),\n",
       "                (&#x27;clf&#x27;, LogisticRegression(max_iter=200))])</pre></div></div></div><div class=\"sk-serial\"><div class=\"sk-item\"><div class=\"sk-estimator sk-toggleable\"><input class=\"sk-toggleable__control sk-hidden--visually\" id=\"sk-estimator-id-2\" type=\"checkbox\" ><label for=\"sk-estimator-id-2\" class=\"sk-toggleable__label sk-toggleable__label-arrow\">TfidfVectorizer</label><div class=\"sk-toggleable__content\"><pre>TfidfVectorizer(max_features=5000)</pre></div></div></div><div class=\"sk-item\"><div class=\"sk-estimator sk-toggleable\"><input class=\"sk-toggleable__control sk-hidden--visually\" id=\"sk-estimator-id-3\" type=\"checkbox\" ><label for=\"sk-estimator-id-3\" class=\"sk-toggleable__label sk-toggleable__label-arrow\">LogisticRegression</label><div class=\"sk-toggleable__content\"><pre>LogisticRegression(max_iter=200)</pre></div></div></div></div></div></div></div>"
      ],
      "text/plain": [
       "Pipeline(steps=[('tfidf', TfidfVectorizer(max_features=5000)),\n",
       "                ('clf', LogisticRegression(max_iter=200))])"
      ]
     },
     "execution_count": 24,
     "metadata": {},
     "output_type": "execute_result"
    }
   ],
   "source": [
    "#splitting dataset into training and testing dataset\n",
    "X = df[\"clean_text\"]  \n",
    "y = df[\"sentiment\"]   \n",
    "\n",
    "X_train, X_test, y_train, y_test = train_test_split(X, y, test_size=0.2, random_state=42,stratify=y)\n",
    "\n",
    "print(\"y_train class counts:\\n\", y_train.value_counts())\n",
    "print(\"y_test class counts:\\n\", y_test.value_counts())\n",
    "\n",
    "#  Create naive bayes pipeline\n",
    "nb_pipeline = Pipeline([\n",
    "    (\"tfidf\", TfidfVectorizer(max_features=5000)),\n",
    "    (\"clf\", MultinomialNB())\n",
    "])\n",
    "\n",
    "#  create logistic regression pipeline\n",
    "lr_pipeline = Pipeline([\n",
    "    (\"tfidf\", TfidfVectorizer(max_features=5000)),\n",
    "    (\"clf\", LogisticRegression(max_iter=200))\n",
    "])\n",
    "\n",
    "#  train both models\n",
    "nb_pipeline.fit(X_train, y_train)\n",
    "lr_pipeline.fit(X_train, y_train)\n"
   ]
  },
  {
   "cell_type": "code",
   "execution_count": 25,
   "id": "20d290e2",
   "metadata": {},
   "outputs": [
    {
     "name": "stdout",
     "output_type": "stream",
     "text": [
      "📊 Naive Bayes Report:\n",
      "               precision    recall  f1-score   support\n",
      "\n",
      "    negative       0.85      0.85      0.85     19767\n",
      "    positive       0.85      0.85      0.85     20234\n",
      "\n",
      "    accuracy                           0.85     40001\n",
      "   macro avg       0.85      0.85      0.85     40001\n",
      "weighted avg       0.85      0.85      0.85     40001\n",
      "\n",
      "📊 Logistic Regression Report:\n",
      "               precision    recall  f1-score   support\n",
      "\n",
      "    negative       0.89      0.88      0.89     19767\n",
      "    positive       0.89      0.89      0.89     20234\n",
      "\n",
      "    accuracy                           0.89     40001\n",
      "   macro avg       0.89      0.89      0.89     40001\n",
      "weighted avg       0.89      0.89      0.89     40001\n",
      "\n"
     ]
    }
   ],
   "source": [
    "# 📈 Step 9: Evaluate both models\n",
    "nb_report = classification_report(y_test, nb_pipeline.predict(X_test))\n",
    "lr_report = classification_report(y_test, lr_pipeline.predict(X_test))\n",
    "\n",
    "print(\"📊 Naive Bayes Report:\\n\", nb_report)\n",
    "print(\"📊 Logistic Regression Report:\\n\", lr_report)\n"
   ]
  },
  {
   "cell_type": "code",
   "execution_count": 26,
   "id": "26ec8628",
   "metadata": {},
   "outputs": [
    {
     "name": "stdout",
     "output_type": "stream",
     "text": [
      " Models saved successfully!\n"
     ]
    }
   ],
   "source": [
    "# 💾 Step 10: Save both trained models for Flask later\n",
    "joblib.dump(nb_pipeline, \"naive_model.pkl\")\n",
    "joblib.dump(lr_pipeline, \"logistic_model.pkl\")\n",
    "print(\" Models saved successfully!\")\n"
   ]
  }
 ],
 "metadata": {
  "kernelspec": {
   "display_name": "base",
   "language": "python",
   "name": "python3"
  },
  "language_info": {
   "codemirror_mode": {
    "name": "ipython",
    "version": 3
   },
   "file_extension": ".py",
   "mimetype": "text/x-python",
   "name": "python",
   "nbconvert_exporter": "python",
   "pygments_lexer": "ipython3",
   "version": "3.11.3"
  }
 },
 "nbformat": 4,
 "nbformat_minor": 5
}
